{
 "cells": [
  {
   "cell_type": "code",
   "execution_count": null,
   "metadata": {},
   "outputs": [],
   "source": [
    "from pathlib import Path\n",
    "from functools import partial\n",
    "\n",
    "import torch\n",
    "from torch.nn.functional import softmax\n",
    "from torch.utils.data import random_split\n",
    "\n",
    "import matplotlib.pyplot as plt\n",
    "import seaborn as sns\n",
    "\n",
    "from ballchallenge.model import BallChallengeModel\n",
    "from ballchallenge.accelerometer_dataset import AccelerometerDataset\n",
    "from ballchallenge.training import run_training\n",
    "\n",
    "DEVICE = \"cuda\" if torch.cuda.is_available() else \"cpu\"\n",
    "DATASET_ROOT = Path(\"../data\")\n",
    "GRID_SIZE = (10, 10)"
   ]
  },
  {
   "cell_type": "code",
   "execution_count": null,
   "metadata": {},
   "outputs": [],
   "source": [
    "def flat_labels(labels: torch.Tensor) -> torch.Tensor:\n",
    "    return labels.flatten(start_dim=1)\n",
    "\n",
    "def downsample(samples: torch.Tensor, factor: int) -> torch.Tensor:\n",
    "    return samples[:,:,::factor]\n",
    "\n",
    "ds = AccelerometerDataset(\n",
    "    dataset_root=DATASET_ROOT,\n",
    "    grid_size=GRID_SIZE,\n",
    "    x_position_range=(0, 2),\n",
    "    y_position_range=(0, 2),\n",
    "    label_std=0.3,\n",
    "    transform_samples=partial(downsample, factor=4),\n",
    "    transform_labels=flat_labels,\n",
    ")\n",
    "ds_train, ds_test = random_split(ds, lengths=[0.75, 0.25])\n",
    "\n",
    "print(\"Train Samples:\", ds_train[:][0].shape)\n",
    "print(\"Test Samples:\", ds_test[:][0].shape)"
   ]
  },
  {
   "cell_type": "code",
   "execution_count": null,
   "metadata": {},
   "outputs": [],
   "source": [
    "model = BallChallengeModel(total_bits=16, frac_bits=8, signal_length=ds_train[0][0].shape[1], grid_size=GRID_SIZE)\n",
    "\n",
    "sum(param.numel() for param in model.parameters())"
   ]
  },
  {
   "cell_type": "code",
   "execution_count": null,
   "metadata": {},
   "outputs": [],
   "source": [
    "history = run_training(\n",
    "    model=model,\n",
    "    ds_train=ds_train,\n",
    "    ds_test=ds_test,\n",
    "    batch_size=8,\n",
    "    epochs=500,\n",
    "    learning_rate=1e-3,\n",
    "    device=DEVICE\n",
    ")\n",
    "\n",
    "model.eval()\n",
    "model.to(\"cpu\")"
   ]
  },
  {
   "cell_type": "code",
   "execution_count": null,
   "metadata": {},
   "outputs": [],
   "source": [
    "fig, axs = plt.subplots(nrows=1, ncols=2, figsize=(15, 5))\n",
    "\n",
    "axs[0].plot(history.train[\"epoch\"], history.train[\"loss\"], label=\"train\")\n",
    "axs[0].plot(history.test[\"epoch\"], history.test[\"loss\"], label=\"test\")\n",
    "axs[0].set_xlabel(\"Epoch\")\n",
    "axs[0].set_ylabel(\"Loss\")\n",
    "axs[0].legend()\n",
    "\n",
    "axs[1].plot(history.train[\"epoch\"], history.train[\"accuracy\"], label=\"train\")\n",
    "axs[1].plot(history.test[\"epoch\"], history.test[\"accuracy\"], label=\"test\")\n",
    "axs[1].set_xlabel(\"Epochs\")\n",
    "axs[1].set_ylabel(\"Accuracy\")\n",
    "axs[1].legend()"
   ]
  },
  {
   "cell_type": "code",
   "execution_count": null,
   "metadata": {},
   "outputs": [],
   "source": [
    "sample_idx = 0\n",
    "\n",
    "sample, target = ds_test[sample_idx]\n",
    "prediction = softmax(model(sample).detach(), dim=0).view(*GRID_SIZE[::-1])\n",
    "target = target.view(*GRID_SIZE[::-1])\n",
    "\n",
    "fig, axs = plt.subplots(nrows=1, ncols=2, figsize=(10, 5))\n",
    "\n",
    "sns.heatmap(prediction, cmap=\"hot\", square=True, ax=axs[0])\n",
    "axs[0].set_title(\"Prediction\")\n",
    "\n",
    "sns.heatmap(target, cmap=\"hot\", square=True, ax=axs[1])\n",
    "axs[1].set_title(\"Target\")"
   ]
  },
  {
   "cell_type": "code",
   "execution_count": null,
   "metadata": {},
   "outputs": [],
   "source": [
    "_, labels = ds[:]\n",
    "mean_label = labels.mean(dim=0)\n",
    "sns.heatmap(mean_label.view(GRID_SIZE), square=True, cmap=\"hot\")"
   ]
  },
  {
   "cell_type": "code",
   "execution_count": null,
   "metadata": {},
   "outputs": [],
   "source": []
  },
  {
   "cell_type": "code",
   "execution_count": null,
   "metadata": {},
   "outputs": [],
   "source": []
  }
 ],
 "metadata": {
  "kernelspec": {
   "display_name": "ballchallenge",
   "language": "python",
   "name": "python3"
  },
  "language_info": {
   "codemirror_mode": {
    "name": "ipython",
    "version": 3
   },
   "file_extension": ".py",
   "mimetype": "text/x-python",
   "name": "python",
   "nbconvert_exporter": "python",
   "pygments_lexer": "ipython3",
   "version": "3.11.5"
  }
 },
 "nbformat": 4,
 "nbformat_minor": 2
}
