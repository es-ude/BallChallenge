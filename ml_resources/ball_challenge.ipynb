{
 "cells": [
  {
   "cell_type": "code",
   "execution_count": null,
   "metadata": {},
   "outputs": [],
   "source": [
    "from typing import cast\n",
    "from pathlib import Path\n",
    "from functools import partial\n",
    "\n",
    "import torch\n",
    "from torch.nn.functional import softmax\n",
    "from torch.utils.data import random_split\n",
    "\n",
    "import matplotlib.pyplot as plt\n",
    "import seaborn as sns\n",
    "\n",
    "from elasticai.creator.file_generation.on_disk_path import OnDiskPath\n",
    "from elasticai.creator.vhdl.system_integrations.firmware_env5 import FirmwareENv5\n",
    "\n",
    "from ballchallenge.model_builder import ModelBuilder\n",
    "from ballchallenge.accelerometer_dataset import AccelerometerDataset\n",
    "from ballchallenge.training import run_training\n",
    "\n",
    "\n",
    "DEVICE = \"cuda\" if torch.cuda.is_available() else \"cpu\"\n",
    "DATASET_ROOT = Path(\"../data\")\n",
    "GRID_SIZE = (10, 10)"
   ]
  },
  {
   "cell_type": "code",
   "execution_count": null,
   "metadata": {},
   "outputs": [],
   "source": [
    "def flat_labels(labels: torch.Tensor) -> torch.Tensor:\n",
    "    return labels.flatten(start_dim=1)\n",
    "\n",
    "def downsample(samples: torch.Tensor, factor: int) -> torch.Tensor:\n",
    "    return samples[:,:,::factor]\n",
    "\n",
    "ds = AccelerometerDataset(\n",
    "    dataset_root=DATASET_ROOT,\n",
    "    grid_size=GRID_SIZE,\n",
    "    x_position_range=(0, 2),\n",
    "    y_position_range=(0, 2),\n",
    "    label_std=0.24,\n",
    "    transform_samples=partial(downsample, factor=4),\n",
    "    transform_labels=flat_labels,\n",
    ")\n",
    "ds_train, ds_test = random_split(ds, lengths=[0.75, 0.25])\n",
    "\n",
    "print(\"Train Samples:\", ds_train[:][0].shape)\n",
    "print(\"Test Samples:\", ds_test[:][0].shape)"
   ]
  },
  {
   "cell_type": "code",
   "execution_count": null,
   "metadata": {},
   "outputs": [],
   "source": [
    "input_shape = cast(tuple[int, int], tuple(ds_train[:][0].shape[1:]))\n",
    "\n",
    "model_builder = ModelBuilder(total_bits=16, frac_bits=8, input_shape=input_shape)\n",
    "model_builder.add_conv1d(filters=16, kernel_size=8).add_hard_tanh()\n",
    "model_builder.add_conv1d(filters=8, kernel_size=16).add_hard_tanh()\n",
    "model_builder.add_conv1d(filters=4, kernel_size=32).add_hard_tanh()\n",
    "model_builder.add_conv1d(filters=2, kernel_size=64).add_hard_tanh()\n",
    "model_builder.add_conv1d(filters=1, kernel_size=128).add_hard_tanh()\n",
    "model_builder.add_flatten()\n",
    "model_builder.add_linear(output_units=GRID_SIZE[0] * GRID_SIZE[1])\n",
    "\n",
    "model = model_builder.build_model()"
   ]
  },
  {
   "cell_type": "code",
   "execution_count": null,
   "metadata": {},
   "outputs": [],
   "source": [
    "print(\"Trainable model parameters:\", sum(param.numel() for param in model.parameters()))"
   ]
  },
  {
   "cell_type": "code",
   "execution_count": null,
   "metadata": {},
   "outputs": [],
   "source": [
    "history = run_training(\n",
    "    model=model,\n",
    "    ds_train=ds_train,\n",
    "    ds_test=ds_test,\n",
    "    batch_size=8,\n",
    "    epochs=800,\n",
    "    learning_rate=1e-4,\n",
    "    device=DEVICE\n",
    ")\n",
    "\n",
    "model.eval()\n",
    "model.to(\"cpu\")"
   ]
  },
  {
   "cell_type": "code",
   "execution_count": null,
   "metadata": {},
   "outputs": [],
   "source": [
    "fig, axs = plt.subplots(nrows=1, ncols=2, figsize=(15, 5))\n",
    "\n",
    "axs[0].plot(history.train[\"epoch\"], history.train[\"loss\"], label=\"train\")\n",
    "axs[0].plot(history.test[\"epoch\"], history.test[\"loss\"], label=\"test\")\n",
    "axs[0].set_xlabel(\"Epoch\")\n",
    "axs[0].set_ylabel(\"Loss\")\n",
    "axs[0].legend()\n",
    "\n",
    "axs[1].plot(history.train[\"epoch\"], history.train[\"accuracy\"], label=\"train\")\n",
    "axs[1].plot(history.test[\"epoch\"], history.test[\"accuracy\"], label=\"test\")\n",
    "axs[1].set_xlabel(\"Epochs\")\n",
    "axs[1].set_ylabel(\"Accuracy\")\n",
    "axs[1].legend()"
   ]
  },
  {
   "cell_type": "code",
   "execution_count": null,
   "metadata": {},
   "outputs": [],
   "source": [
    "def render_target_and_prediction(sample_idx = 0):\n",
    "    sample, target = ds_train[sample_idx]\n",
    "    prediction = softmax(model(sample).detach(), dim=1).view(*GRID_SIZE[::-1])\n",
    "    target = target.view(*GRID_SIZE[::-1])\n",
    "    fig, axs = plt.subplots(nrows=1, ncols=2, figsize=(10, 5))\n",
    "\n",
    "    sns.heatmap(prediction, cmap=\"hot\", square=True, ax=axs[0])\n",
    "    axs[0].set_title(\"Prediction\")\n",
    "\n",
    "    sns.heatmap(target, cmap=\"hot\", square=True, ax=axs[1])\n",
    "    axs[1].set_title(\"Target\")\n",
    "\n",
    "for i in range(4):\n",
    "    render_target_and_prediction(sample_idx=i)"
   ]
  },
  {
   "cell_type": "code",
   "execution_count": null,
   "metadata": {},
   "outputs": [],
   "source": [
    "_, labels = ds[:]\n",
    "mean_label = labels.mean(dim=0)\n",
    "sns.heatmap(mean_label.view(GRID_SIZE), square=True, cmap=\"hot\")"
   ]
  },
  {
   "cell_type": "code",
   "execution_count": null,
   "metadata": {},
   "outputs": [],
   "source": [
    "hw_design = model.create_design(\"ball_throw\")\n",
    "\n",
    "path = OnDiskPath(\"build\")\n",
    "\n",
    "channels, signal_length = ds_train[0][0].shape\n",
    "total_length = channels * signal_length\n",
    "firmware = FirmwareENv5(hw_design, x_num_values=total_length,\n",
    "                        y_num_values=GRID_SIZE[0]*GRID_SIZE[1], skeleton_version=\"v2\", id=666)\n",
    "\n",
    "firmware.save_to(path)"
   ]
  },
  {
   "cell_type": "code",
   "execution_count": null,
   "metadata": {},
   "outputs": [],
   "source": []
  }
 ],
 "metadata": {
  "kernelspec": {
   "display_name": "ballchallenge",
   "language": "python",
   "name": "python3"
  },
  "language_info": {
   "codemirror_mode": {
    "name": "ipython",
    "version": 3
   },
   "file_extension": ".py",
   "mimetype": "text/x-python",
   "name": "python",
   "nbconvert_exporter": "python",
   "pygments_lexer": "ipython3",
   "version": "3.11.7"
  }
 },
 "nbformat": 4,
 "nbformat_minor": 2
}
