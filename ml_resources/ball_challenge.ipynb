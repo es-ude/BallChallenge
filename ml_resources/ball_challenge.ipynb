{
 "cells": [
  {
   "cell_type": "markdown",
   "metadata": {},
   "source": [
    "# Ball Challenge"
   ]
  },
  {
   "cell_type": "code",
   "execution_count": 1,
   "metadata": {},
   "outputs": [],
   "source": [
    "\n",
    "\n",
    "import matplotlib.pyplot as plt\n",
    "import seaborn as sns\n",
    "from torch import nn\n",
    "import torch\n",
    "import functools\n",
    "from utils import PositionPrediction\n",
    "\n",
    "plt.style.use(\"seaborn-v0_8-whitegrid\")\n",
    "\n",
    "from elasticai.creator.file_generation.on_disk_path import OnDiskPath\n",
    "from elasticai.creator.vhdl.system_integrations.firmware_env5 import FirmwareENv5\n",
    "\n",
    "experiment = PositionPrediction()"
   ]
  },
  {
   "cell_type": "markdown",
   "metadata": {},
   "source": [
    "## Load Training and Test Data"
   ]
  },
  {
   "cell_type": "code",
   "execution_count": 2,
   "metadata": {},
   "outputs": [
    {
     "name": "stdout",
     "output_type": "stream",
     "text": [
      "Train Samples: 43\n",
      "Test Samples: 14\n",
      "Sample Shape: (3, 250)\n"
     ]
    }
   ],
   "source": [
    "\n",
    "experiment.load_dataset()\n",
    "\n",
    "print(\"Train Samples:\", len(experiment.train_set))\n",
    "print(\"Test Samples:\", len(experiment.test_set))\n",
    "\n",
    "print(\"Sample Shape:\", experiment.input_shape)"
   ]
  },
  {
   "cell_type": "markdown",
   "metadata": {},
   "source": [
    "## Create Model"
   ]
  },
  {
   "cell_type": "code",
   "execution_count": 14,
   "outputs": [],
   "source": [
    "def conv(in_channels, out_channels, kernel_size):\n",
    "    return nn.Sequential(nn.Conv1d(in_channels=in_channels, out_channels=out_channels, kernel_size=kernel_size),\n",
    "                         nn.BatchNorm1d(num_features=out_channels),\n",
    "                         nn.Sigmoid())\n",
    "\n",
    "experiment.model = nn.Sequential(\n",
    "    conv(3, 3, kernel_size=64),\n",
    "    conv(3, 2, kernel_size=26),\n",
    "    conv(2, 2, kernel_size=13),\n",
    "    conv(2, 1, kernel_size=13),\n",
    "    nn.Flatten(),\n",
    "    nn.Linear(in_features=138, out_features=2)\n",
    ")\n"
   ],
   "metadata": {
    "collapsed": false
   }
  },
  {
   "cell_type": "markdown",
   "metadata": {},
   "source": [
    "## Train Model"
   ]
  },
  {
   "cell_type": "code",
   "execution_count": 15,
   "outputs": [
    {
     "name": "stdout",
     "output_type": "stream",
     "text": [
      "epoch: 0, train loss: 0.8510292172431946, test loss: 0.7762436057840075\n",
      "epoch: 1, train loss: 0.8351225852966309, test loss: 0.7674818528550011\n",
      "epoch: 2, train loss: 0.8193816542625427, test loss: 0.7585556762559074\n",
      "epoch: 3, train loss: 0.8038164973258972, test loss: 0.7494822506393705\n",
      "epoch: 4, train loss: 0.7884361147880554, test loss: 0.7402800619602203\n",
      "epoch: 5, train loss: 0.773249089717865, test loss: 0.7309746742248535\n",
      "epoch: 6, train loss: 0.758264422416687, test loss: 0.7215793281793594\n",
      "epoch: 7, train loss: 0.7434905171394348, test loss: 0.7121067409004483\n",
      "epoch: 8, train loss: 0.728936493396759, test loss: 0.7025683096476963\n",
      "epoch: 9, train loss: 0.7146106958389282, test loss: 0.6929841978209359\n",
      "epoch: 10, train loss: 0.7005212903022766, test loss: 0.6833617963961193\n",
      "epoch: 11, train loss: 0.6866759657859802, test loss: 0.6737179309129715\n",
      "epoch: 12, train loss: 0.6730812191963196, test loss: 0.6640599178416389\n",
      "epoch: 13, train loss: 0.6597431302070618, test loss: 0.6543967936720166\n",
      "epoch: 14, train loss: 0.6466662883758545, test loss: 0.6447431508983884\n",
      "epoch: 15, train loss: 0.63385409116745, test loss: 0.6351051075117928\n",
      "epoch: 16, train loss: 0.6213088631629944, test loss: 0.6254946078572955\n",
      "epoch: 17, train loss: 0.6090310215950012, test loss: 0.6159151419997215\n",
      "epoch: 18, train loss: 0.5970199704170227, test loss: 0.6063741200736591\n",
      "epoch: 19, train loss: 0.5852732062339783, test loss: 0.5968789021883693\n",
      "epoch: 20, train loss: 0.5737873911857605, test loss: 0.5874355669532504\n",
      "epoch: 21, train loss: 0.5625574588775635, test loss: 0.5780466752392905\n",
      "epoch: 22, train loss: 0.5515777468681335, test loss: 0.5687157447849002\n",
      "epoch: 23, train loss: 0.5408415794372559, test loss: 0.5594466945954731\n",
      "epoch: 24, train loss: 0.5303412675857544, test loss: 0.55024140221732\n",
      "epoch: 25, train loss: 0.5200689435005188, test loss: 0.5410997761147363\n",
      "epoch: 26, train loss: 0.5100164413452148, test loss: 0.5320221164396831\n",
      "epoch: 27, train loss: 0.5001755356788635, test loss: 0.5230108329227993\n",
      "epoch: 28, train loss: 0.4905378222465515, test loss: 0.5140619235379356\n",
      "epoch: 29, train loss: 0.4810955226421356, test loss: 0.5051745218890054\n",
      "epoch: 30, train loss: 0.47184082865715027, test loss: 0.4963462640132223\n",
      "epoch: 31, train loss: 0.4627665579319, test loss: 0.48757496050425936\n",
      "epoch: 32, train loss: 0.4538661241531372, test loss: 0.4788584251488958\n",
      "epoch: 33, train loss: 0.445133239030838, test loss: 0.47019648232630323\n",
      "epoch: 34, train loss: 0.4365622401237488, test loss: 0.46158636999981745\n",
      "epoch: 35, train loss: 0.4281482696533203, test loss: 0.453029419694628\n",
      "epoch: 36, train loss: 0.4198864698410034, test loss: 0.4445245478834425\n",
      "epoch: 37, train loss: 0.4117729663848877, test loss: 0.4360750615596771\n",
      "epoch: 38, train loss: 0.40380412340164185, test loss: 0.42768281804663794\n",
      "epoch: 39, train loss: 0.39597654342651367, test loss: 0.4193466923066548\n",
      "epoch: 40, train loss: 0.38828739523887634, test loss: 0.41107278210776194\n",
      "epoch: 41, train loss: 0.3807339668273926, test loss: 0.40286720224789213\n",
      "epoch: 42, train loss: 0.3733140230178833, test loss: 0.39473520645073484\n",
      "epoch: 43, train loss: 0.36602529883384705, test loss: 0.38668486901691984\n",
      "epoch: 44, train loss: 0.35886579751968384, test loss: 0.37872166505881716\n",
      "epoch: 45, train loss: 0.3518335521221161, test loss: 0.3708599901625088\n",
      "epoch: 46, train loss: 0.3449268043041229, test loss: 0.363110395946673\n",
      "epoch: 47, train loss: 0.33814379572868347, test loss: 0.3554793723991939\n",
      "epoch: 48, train loss: 0.33148279786109924, test loss: 0.34797500499657225\n",
      "epoch: 49, train loss: 0.32494229078292847, test loss: 0.3406029801283564\n",
      "epoch: 50, train loss: 0.3185204863548279, test loss: 0.33336110200200764\n",
      "epoch: 51, train loss: 0.3122158348560333, test loss: 0.3262551022427423\n",
      "epoch: 52, train loss: 0.30602675676345825, test loss: 0.31928445026278496\n",
      "epoch: 53, train loss: 0.29995161294937134, test loss: 0.31245589682034086\n",
      "epoch: 54, train loss: 0.29398873448371887, test loss: 0.30577474513224195\n",
      "epoch: 55, train loss: 0.2881366014480591, test loss: 0.2992247593189989\n",
      "epoch: 56, train loss: 0.2823936641216278, test loss: 0.29281722754240036\n",
      "epoch: 57, train loss: 0.27675822377204895, test loss: 0.2865491083690098\n",
      "epoch: 58, train loss: 0.27122876048088074, test loss: 0.2804229924721377\n",
      "epoch: 59, train loss: 0.26580360531806946, test loss: 0.27444321289658546\n",
      "epoch: 60, train loss: 0.2604812979698181, test loss: 0.2685969155281782\n",
      "epoch: 61, train loss: 0.25526028871536255, test loss: 0.262887016204851\n",
      "epoch: 62, train loss: 0.25013893842697144, test loss: 0.2573062644473144\n",
      "epoch: 63, train loss: 0.24511583149433136, test loss: 0.2518412532018764\n",
      "epoch: 64, train loss: 0.24018941819667816, test loss: 0.2464883609541825\n",
      "epoch: 65, train loss: 0.23535825312137604, test loss: 0.24125552603176662\n",
      "epoch: 66, train loss: 0.23062074184417725, test loss: 0.23612989804574422\n",
      "epoch: 67, train loss: 0.2259756624698639, test loss: 0.23111169253076827\n",
      "epoch: 68, train loss: 0.22142139077186584, test loss: 0.22619446207370078\n",
      "epoch: 69, train loss: 0.21695668995380402, test loss: 0.22138117945619992\n",
      "epoch: 70, train loss: 0.21258004009723663, test loss: 0.21667836233973503\n",
      "epoch: 71, train loss: 0.2082901895046234, test loss: 0.21208390087953635\n",
      "epoch: 72, train loss: 0.20408570766448975, test loss: 0.20760601253381797\n",
      "epoch: 73, train loss: 0.19996534287929535, test loss: 0.20323075646800653\n",
      "epoch: 74, train loss: 0.19592775404453278, test loss: 0.1989467263753925\n",
      "epoch: 75, train loss: 0.19197162985801697, test loss: 0.19477088297052042\n",
      "epoch: 76, train loss: 0.18809577822685242, test loss: 0.1906911110771554\n",
      "epoch: 77, train loss: 0.18429887294769287, test loss: 0.1867067160617028\n",
      "epoch: 78, train loss: 0.18057961761951447, test loss: 0.1828148201374071\n",
      "epoch: 79, train loss: 0.17693692445755005, test loss: 0.17902701507721627\n",
      "epoch: 80, train loss: 0.17336946725845337, test loss: 0.17531793817345584\n",
      "epoch: 81, train loss: 0.1698760837316513, test loss: 0.17169857783509151\n",
      "epoch: 82, train loss: 0.16645553708076477, test loss: 0.16817148734948464\n",
      "epoch: 83, train loss: 0.16310669481754303, test loss: 0.16472377894180162\n",
      "epoch: 84, train loss: 0.15982834994792938, test loss: 0.1613706031015941\n",
      "epoch: 85, train loss: 0.1566193848848343, test loss: 0.15809243132493325\n",
      "epoch: 86, train loss: 0.15347860753536224, test loss: 0.15488467518506305\n",
      "epoch: 87, train loss: 0.15040485560894012, test loss: 0.15175867486479028\n",
      "epoch: 88, train loss: 0.14739705622196198, test loss: 0.14870558459577815\n",
      "epoch: 89, train loss: 0.14445404708385468, test loss: 0.14572138898074627\n",
      "epoch: 90, train loss: 0.14157474040985107, test loss: 0.14282076506476318\n",
      "epoch: 91, train loss: 0.13875798881053925, test loss: 0.1400040495209396\n",
      "epoch: 92, train loss: 0.136002779006958, test loss: 0.13725369037794216\n",
      "epoch: 93, train loss: 0.13330793380737305, test loss: 0.13457232384410286\n",
      "epoch: 94, train loss: 0.13067243993282318, test loss: 0.1319622782258583\n",
      "epoch: 95, train loss: 0.12809525430202484, test loss: 0.1294258502977235\n",
      "epoch: 96, train loss: 0.1255752146244049, test loss: 0.1269545142006661\n",
      "epoch: 97, train loss: 0.12311143428087234, test loss: 0.12456178342524384\n",
      "epoch: 98, train loss: 0.12070278823375702, test loss: 0.12223134801856109\n",
      "epoch: 99, train loss: 0.11834835261106491, test loss: 0.11994972261267581\n",
      "epoch: 100, train loss: 0.11604693531990051, test loss: 0.11773690022528172\n",
      "epoch: 101, train loss: 0.11379771679639816, test loss: 0.115588513984611\n",
      "epoch: 102, train loss: 0.1115996316075325, test loss: 0.1135003659375278\n",
      "epoch: 103, train loss: 0.10945172607898712, test loss: 0.11147285148035735\n",
      "epoch: 104, train loss: 0.10735300928354263, test loss: 0.10950071088570569\n",
      "epoch: 105, train loss: 0.10530256479978561, test loss: 0.10758710527859096\n",
      "epoch: 106, train loss: 0.10329945385456085, test loss: 0.10572407888581178\n",
      "epoch: 107, train loss: 0.10134273022413254, test loss: 0.10392282926477492\n",
      "epoch: 108, train loss: 0.09943149238824844, test loss: 0.10217695862021563\n",
      "epoch: 109, train loss: 0.09756481647491455, test loss: 0.10048191266001336\n",
      "epoch: 110, train loss: 0.09574184566736221, test loss: 0.0988268359963383\n",
      "epoch: 111, train loss: 0.0939616933465004, test loss: 0.09720559549584452\n",
      "epoch: 112, train loss: 0.09222344309091568, test loss: 0.0956246874162129\n",
      "epoch: 113, train loss: 0.0905262902379036, test loss: 0.09408629525985036\n",
      "epoch: 114, train loss: 0.08886934816837311, test loss: 0.09258512671138826\n",
      "epoch: 115, train loss: 0.08725183457136154, test loss: 0.09112634764252496\n",
      "epoch: 116, train loss: 0.08567290008068085, test loss: 0.08970181725453585\n",
      "epoch: 117, train loss: 0.08413172513246536, test loss: 0.0883321634859645\n",
      "epoch: 118, train loss: 0.0826275423169136, test loss: 0.08700216712895781\n",
      "epoch: 119, train loss: 0.0811595693230629, test loss: 0.08571212271428001\n",
      "epoch: 120, train loss: 0.07972700893878937, test loss: 0.08446241725635316\n",
      "epoch: 121, train loss: 0.07832910120487213, test loss: 0.08324541228025087\n",
      "epoch: 122, train loss: 0.0769651010632515, test loss: 0.0820578175729939\n",
      "epoch: 123, train loss: 0.07563433051109314, test loss: 0.08090316495924656\n",
      "epoch: 124, train loss: 0.0743359625339508, test loss: 0.07977894879877567\n",
      "epoch: 125, train loss: 0.07306934148073196, test loss: 0.07869202334300748\n",
      "epoch: 126, train loss: 0.07183375954627991, test loss: 0.0776443991843345\n",
      "epoch: 127, train loss: 0.07062852382659912, test loss: 0.0766232239132348\n",
      "epoch: 128, train loss: 0.06945296376943588, test loss: 0.07563039986416698\n",
      "epoch: 129, train loss: 0.06830643862485886, test loss: 0.07467235435199525\n",
      "epoch: 130, train loss: 0.06718821078538895, test loss: 0.07374823036869722\n",
      "epoch: 131, train loss: 0.0660976842045784, test loss: 0.07285568071529269\n",
      "epoch: 132, train loss: 0.06503424793481827, test loss: 0.0719875249279929\n",
      "epoch: 133, train loss: 0.06399724632501602, test loss: 0.0711440642231277\n",
      "epoch: 134, train loss: 0.0629860982298851, test loss: 0.07032455064888511\n",
      "epoch: 135, train loss: 0.06200019270181656, test loss: 0.06952882168947586\n",
      "epoch: 136, train loss: 0.06103888899087906, test loss: 0.06875664152071945\n",
      "epoch: 137, train loss: 0.060101646929979324, test loss: 0.06801775400526822\n",
      "epoch: 138, train loss: 0.059187937527894974, test loss: 0.0673028931321044\n",
      "epoch: 139, train loss: 0.05829714611172676, test loss: 0.06660816908281829\n",
      "epoch: 140, train loss: 0.05742873623967171, test loss: 0.06593436558198716\n",
      "epoch: 141, train loss: 0.05658220872282982, test loss: 0.06527763162739575\n",
      "epoch: 142, train loss: 0.05575700104236603, test loss: 0.0646436986779528\n",
      "epoch: 143, train loss: 0.05495258793234825, test loss: 0.06403089281437653\n",
      "epoch: 144, train loss: 0.05416850745677948, test loss: 0.06343706155062787\n",
      "epoch: 145, train loss: 0.05340421944856644, test loss: 0.06286022609232791\n",
      "epoch: 146, train loss: 0.05265926197171211, test loss: 0.062303995713591576\n",
      "epoch: 147, train loss: 0.051933128386735916, test loss: 0.061760665266774595\n",
      "epoch: 148, train loss: 0.051225390285253525, test loss: 0.06124032210625176\n",
      "epoch: 149, train loss: 0.05053556337952614, test loss: 0.06073612593380468\n",
      "epoch: 150, train loss: 0.04986322671175003, test loss: 0.060245023059126525\n",
      "epoch: 151, train loss: 0.0492078997194767, test loss: 0.05976955865376762\n",
      "epoch: 152, train loss: 0.04856918752193451, test loss: 0.05931260538220938\n",
      "epoch: 153, train loss: 0.04794664680957794, test loss: 0.058876937587878535\n",
      "epoch: 154, train loss: 0.04733986780047417, test loss: 0.058453194181700904\n",
      "epoch: 155, train loss: 0.04674848914146423, test loss: 0.05804222795580115\n",
      "epoch: 156, train loss: 0.04617205262184143, test loss: 0.05764543902062412\n",
      "epoch: 157, train loss: 0.04561018571257591, test loss: 0.05726015877111682\n",
      "epoch: 158, train loss: 0.04506254196166992, test loss: 0.056885080229091854\n",
      "epoch: 159, train loss: 0.04452873766422272, test loss: 0.056527403582419665\n",
      "epoch: 160, train loss: 0.044008418917655945, test loss: 0.05617771319313241\n",
      "epoch: 161, train loss: 0.043501198291778564, test loss: 0.05584225002011018\n",
      "epoch: 162, train loss: 0.04300675913691521, test loss: 0.05551966367056593\n",
      "epoch: 163, train loss: 0.04252475127577782, test loss: 0.05520858755335212\n",
      "epoch: 164, train loss: 0.042054858058691025, test loss: 0.054908567548929046\n",
      "epoch: 165, train loss: 0.041596751660108566, test loss: 0.054619693371932954\n",
      "epoch: 166, train loss: 0.04115010052919388, test loss: 0.05433827319315502\n",
      "epoch: 167, train loss: 0.040714606642723083, test loss: 0.05407112498401797\n",
      "epoch: 168, train loss: 0.0402899831533432, test loss: 0.05381553982650595\n",
      "epoch: 169, train loss: 0.03987591341137886, test loss: 0.053568958500233875\n",
      "epoch: 170, train loss: 0.03947211802005768, test loss: 0.05333677079345632\n",
      "epoch: 171, train loss: 0.039078306406736374, test loss: 0.05311259201594761\n",
      "epoch: 172, train loss: 0.03869422897696495, test loss: 0.05289939945214428\n",
      "epoch: 173, train loss: 0.03831959143280983, test loss: 0.05269786002463661\n",
      "epoch: 174, train loss: 0.03795416280627251, test loss: 0.052504221526240666\n",
      "epoch: 175, train loss: 0.037597645074129105, test loss: 0.05231842719617167\n",
      "epoch: 176, train loss: 0.03724982216954231, test loss: 0.05213967156097559\n",
      "epoch: 177, train loss: 0.03691045567393303, test loss: 0.0519725560588995\n",
      "epoch: 178, train loss: 0.03657926619052887, test loss: 0.05181227136303538\n",
      "epoch: 179, train loss: 0.036256056278944016, test loss: 0.05165802288268294\n",
      "epoch: 180, train loss: 0.035940609872341156, test loss: 0.051506711718892415\n",
      "epoch: 181, train loss: 0.03563269227743149, test loss: 0.051363963423812366\n",
      "epoch: 182, train loss: 0.03533206507563591, test loss: 0.05123179315705784\n",
      "epoch: 183, train loss: 0.0350385382771492, test loss: 0.05110848400259523\n",
      "epoch: 184, train loss: 0.03475191816687584, test loss: 0.050996067987788204\n",
      "epoch: 185, train loss: 0.034471992403268814, test loss: 0.05088948056800291\n",
      "epoch: 186, train loss: 0.0341985858976841, test loss: 0.05078812202763012\n",
      "epoch: 187, train loss: 0.03393145650625229, test loss: 0.05069214388329003\n",
      "epoch: 188, train loss: 0.03367047756910324, test loss: 0.0506020011297161\n",
      "epoch: 189, train loss: 0.033415455371141434, test loss: 0.050519404675079774\n",
      "epoch: 190, train loss: 0.03316619619727135, test loss: 0.0504436212067958\n",
      "epoch: 191, train loss: 0.032922543585300446, test loss: 0.05037313671449998\n",
      "epoch: 192, train loss: 0.032684314996004105, test loss: 0.050309408614079336\n",
      "epoch: 193, train loss: 0.03245137631893158, test loss: 0.05025307620858906\n",
      "epoch: 194, train loss: 0.032223545014858246, test loss: 0.05020439351210371\n",
      "epoch: 195, train loss: 0.032000672072172165, test loss: 0.05015931002396558\n",
      "epoch: 196, train loss: 0.0317826047539711, test loss: 0.050119843608367125\n",
      "epoch: 197, train loss: 0.0315692275762558, test loss: 0.05008257417024912\n",
      "epoch: 198, train loss: 0.03136036917567253, test loss: 0.05005030749764826\n",
      "epoch: 199, train loss: 0.031155886128544807, test loss: 0.0500187729901102\n",
      "epoch: 200, train loss: 0.03095565363764763, test loss: 0.049990862545590584\n",
      "epoch: 201, train loss: 0.030759554356336594, test loss: 0.04996631127765535\n",
      "epoch: 202, train loss: 0.030567437410354614, test loss: 0.0499454641581646\n",
      "epoch: 203, train loss: 0.03037920407950878, test loss: 0.04992824338010645\n",
      "epoch: 204, train loss: 0.03019472025334835, test loss: 0.049915938825246746\n",
      "epoch: 205, train loss: 0.030013861134648323, test loss: 0.04990755457713801\n",
      "epoch: 206, train loss: 0.029836516827344894, test loss: 0.049901727063115686\n",
      "epoch: 207, train loss: 0.029662614688277245, test loss: 0.04990085846137455\n",
      "epoch: 208, train loss: 0.02949199080467224, test loss: 0.049904599473978\n",
      "epoch: 209, train loss: 0.029324572533369064, test loss: 0.04991173612402885\n",
      "epoch: 210, train loss: 0.02916024439036846, test loss: 0.049920479471828524\n",
      "epoch: 211, train loss: 0.028998924419283867, test loss: 0.049931356217712164\n",
      "epoch: 212, train loss: 0.028840523213148117, test loss: 0.04994455560517963\n",
      "epoch: 213, train loss: 0.028684932738542557, test loss: 0.04996147603378631\n",
      "epoch: 214, train loss: 0.028532063588500023, test loss: 0.049980857908459644\n",
      "epoch: 215, train loss: 0.02838183008134365, test loss: 0.05000369659787144\n",
      "epoch: 216, train loss: 0.028234146535396576, test loss: 0.050028606532058414\n",
      "epoch: 217, train loss: 0.02808893471956253, test loss: 0.05005797946692577\n",
      "epoch: 218, train loss: 0.027946114540100098, test loss: 0.05008906447411781\n",
      "stopping early\n"
     ]
    }
   ],
   "source": [
    "experiment.train(epochs=500)"
   ],
   "metadata": {
    "collapsed": false
   }
  },
  {
   "cell_type": "markdown",
   "metadata": {},
   "source": [
    "## Training History and Distance from predicted positions"
   ]
  },
  {
   "cell_type": "code",
   "execution_count": 18,
   "outputs": [
    {
     "name": "stdout",
     "output_type": "stream",
     "text": [
      "mean distance between predicted and actual position  0.6556911266275814\n"
     ]
    },
    {
     "data": {
      "text/plain": "<Figure size 1000x500 with 1 Axes>",
      "image/png": "[encoded data removed]"
     },
     "metadata": {},
     "output_type": "display_data"
    }
   ],
   "source": [
    "experiment.plot_history()\n",
    "print(\"mean distance between predicted and actual position \", experiment.get_mean_and_var_distance_for_test()[0], \" meters\")"
   ],
   "metadata": {
    "collapsed": false
   }
  },
  {
   "cell_type": "markdown",
   "metadata": {},
   "source": [
    "## Save Hardware Implementation"
   ]
  },
  {
   "cell_type": "code",
   "execution_count": 5,
   "metadata": {},
   "outputs": [
    {
     "ename": "AttributeError",
     "evalue": "'Sequential' object has no attribute 'create_design'",
     "output_type": "error",
     "traceback": [
      "\u001B[0;31m---------------------------------------------------------------------------\u001B[0m",
      "\u001B[0;31mAttributeError\u001B[0m                            Traceback (most recent call last)",
      "Cell \u001B[0;32mIn[5], line 3\u001B[0m\n\u001B[1;32m      1\u001B[0m path \u001B[38;5;241m=\u001B[39m OnDiskPath(\u001B[38;5;124m\"\u001B[39m\u001B[38;5;124mbuild\u001B[39m\u001B[38;5;124m\"\u001B[39m)\n\u001B[0;32m----> 3\u001B[0m hw_design \u001B[38;5;241m=\u001B[39m \u001B[43mexperiment\u001B[49m\u001B[38;5;241;43m.\u001B[39;49m\u001B[43mmodel\u001B[49m\u001B[38;5;241;43m.\u001B[39;49m\u001B[43mcreate_design\u001B[49m(\u001B[38;5;124m\"\u001B[39m\u001B[38;5;124mball_throw\u001B[39m\u001B[38;5;124m\"\u001B[39m)\n\u001B[1;32m      5\u001B[0m channels, signal_length \u001B[38;5;241m=\u001B[39m experiment\u001B[38;5;241m.\u001B[39minput_shape\n\u001B[1;32m      6\u001B[0m total_length \u001B[38;5;241m=\u001B[39m channels \u001B[38;5;241m*\u001B[39m signal_length\n",
      "File \u001B[0;32m~/miniforge3/envs/ballchallenge/lib/python3.11/site-packages/torch/nn/modules/module.py:1614\u001B[0m, in \u001B[0;36mModule.__getattr__\u001B[0;34m(self, name)\u001B[0m\n\u001B[1;32m   1612\u001B[0m     \u001B[38;5;28;01mif\u001B[39;00m name \u001B[38;5;129;01min\u001B[39;00m modules:\n\u001B[1;32m   1613\u001B[0m         \u001B[38;5;28;01mreturn\u001B[39;00m modules[name]\n\u001B[0;32m-> 1614\u001B[0m \u001B[38;5;28;01mraise\u001B[39;00m \u001B[38;5;167;01mAttributeError\u001B[39;00m(\u001B[38;5;124m\"\u001B[39m\u001B[38;5;124m'\u001B[39m\u001B[38;5;132;01m{}\u001B[39;00m\u001B[38;5;124m'\u001B[39m\u001B[38;5;124m object has no attribute \u001B[39m\u001B[38;5;124m'\u001B[39m\u001B[38;5;132;01m{}\u001B[39;00m\u001B[38;5;124m'\u001B[39m\u001B[38;5;124m\"\u001B[39m\u001B[38;5;241m.\u001B[39mformat(\n\u001B[1;32m   1615\u001B[0m     \u001B[38;5;28mtype\u001B[39m(\u001B[38;5;28mself\u001B[39m)\u001B[38;5;241m.\u001B[39m\u001B[38;5;18m__name__\u001B[39m, name))\n",
      "\u001B[0;31mAttributeError\u001B[0m: 'Sequential' object has no attribute 'create_design'"
     ]
    }
   ],
   "source": [
    "def save_hw_implementation()\n",
    "    path = OnDiskPath(\"build\")\n",
    "\n",
    "    hw_design = experiment.model.create_design(\"ball_throw\")\n",
    "\n",
    "    channels, signal_length = experiment.input_shape\n",
    "    total_length = channels * signal_length\n",
    "\n",
    "    firmware = FirmwareENv5(\n",
    "        network=hw_design,\n",
    "        x_num_values=total_length,\n",
    "        y_num_values=2,\n",
    "        skeleton_version=\"v2\",\n",
    "        id=666\n",
    "    )\n",
    "    firmware.save_to(path)\n",
    "    hw_design.save_to(path)"
   ]
  },
  {
   "cell_type": "markdown",
   "metadata": {},
   "source": [
    "## Additional Section"
   ]
  },
  {
   "cell_type": "markdown",
   "metadata": {},
   "source": [
    "### Mean Label of the Dataset"
   ]
  }
 ],
 "metadata": {
  "kernelspec": {
   "display_name": "ballchallenge",
   "language": "python",
   "name": "python3"
  },
  "language_info": {
   "codemirror_mode": {
    "name": "ipython",
    "version": 3
   },
   "file_extension": ".py",
   "mimetype": "text/x-python",
   "name": "python",
   "nbconvert_exporter": "python",
   "pygments_lexer": "ipython3",
   "version": "3.11.7"
  }
 },
 "nbformat": 4,
 "nbformat_minor": 2
}
