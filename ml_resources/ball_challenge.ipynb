{
 "cells": [
  {
   "cell_type": "markdown",
   "metadata": {},
   "source": [
    "# Ball Challenge"
   ]
  },
  {
   "cell_type": "code",
   "execution_count": 1,
   "metadata": {},
   "outputs": [],
   "source": [
    "\n",
    "\n",
    "import matplotlib.pyplot as plt\n",
    "import seaborn as sns\n",
    "from torch import nn\n",
    "import torch\n",
    "import functools\n",
    "from utils import PositionPrediction\n",
    "\n",
    "plt.style.use(\"seaborn-v0_8-whitegrid\")\n",
    "\n",
    "from ballchallenge.training import run_training_for_position\n",
    "from elasticai.creator.file_generation.on_disk_path import OnDiskPath\n",
    "from elasticai.creator.vhdl.system_integrations.firmware_env5 import FirmwareENv5\n",
    "\n",
    "GRID_SIZE = (10, 10)\n",
    "experiment = PositionPrediction(GRID_SIZE)"
   ]
  },
  {
   "cell_type": "markdown",
   "metadata": {},
   "source": [
    "## Load Training and Test Data"
   ]
  },
  {
   "cell_type": "code",
   "execution_count": 2,
   "metadata": {},
   "outputs": [
    {
     "name": "stdout",
     "output_type": "stream",
     "text": [
      "Train Samples: 43\n",
      "Test Samples: 14\n",
      "Sample Shape: (3, 250)\n"
     ]
    }
   ],
   "source": [
    "\n",
    "experiment.load_dataset()\n",
    "\n",
    "print(\"Train Samples:\", len(experiment.train_set))\n",
    "print(\"Test Samples:\", len(experiment.test_set))\n",
    "\n",
    "print(\"Sample Shape:\", experiment.input_shape)"
   ]
  },
  {
   "cell_type": "markdown",
   "metadata": {},
   "source": [
    "## Create Model"
   ]
  },
  {
   "cell_type": "code",
   "execution_count": 7,
   "metadata": {},
   "outputs": [],
   "source": [
    "\n",
    "\n",
    "from itertools import chain\n",
    "from typing import Callable, Sequence\n",
    "\n",
    "\n",
    "def bnormed_conv(in_channels, out_channels, kernel_size, act=nn.Sigmoid):\n",
    "        return nn.Sequential(nn.Conv1d(in_channels=in_channels, out_channels=out_channels, kernel_size=kernel_size),\n",
    "            nn.BatchNorm1d(out_channels),\n",
    "                             act()\n",
    "            )\n",
    "\n",
    "def create_position_model(input_shape: tuple[int, int], kernel_sizes: Sequence[int] = (26, 26, 26), out_channels: Sequence[int]=(3, 3, 3), lin_act: Callable[[], nn.Module] = nn.Hardsigmoid, conv=bnormed_conv, linear_out_features: Sequence[int]=(2,)) -> nn.Module:\n",
    "    in_length = input_shape[1]\n",
    "    def flatten_linear(in_channels, out_features, kernel_sizes):\n",
    "        in_features = in_length\n",
    "        for k in kernel_sizes:\n",
    "            in_features -= (k - 1)\n",
    "        in_features = in_channels * in_features\n",
    "        return nn.Sequential(nn.Flatten(), nn.Linear(in_features=in_features, out_features=out_features))\n",
    "\n",
    "    def _conv(in_channels, out_channels, kernel_size):\n",
    "        return conv(in_channels=in_channels, out_channels=out_channels, kernel_size=kernel_size)\n",
    "    convs = []\n",
    "    convs.append(_conv(in_channels=input_shape[0], out_channels=out_channels[0], kernel_size=kernel_sizes[0]))\n",
    "    for k, oc, ic in zip(kernel_sizes[1:], out_channels[1:], out_channels[:-1]):\n",
    "        convs.append(_conv(in_channels=ic, out_channels=oc, kernel_size=k))\n",
    "    total_num_linears = len(linear_out_features)\n",
    "    linears = [flatten_linear(in_channels=out_channels[-1], out_features=linear_out_features[0], kernel_sizes=kernel_sizes)]\n",
    "    if total_num_linears > 1:\n",
    "        linears.extend([nn.BatchNorm1d(linear_out_features[0]), lin_act()])\n",
    "    for id, in_features, out_features in zip(range(2, total_num_linears+1), linear_out_features[:-1], linear_out_features[1:]):\n",
    "        linears.append(nn.Linear(in_features=in_features, out_features=out_features))\n",
    "        if id < total_num_linears:\n",
    "            linears.extend([nn.BatchNorm1d(out_features), lin_act()])\n",
    "    all_layers = tuple(chain(convs, linears))\n",
    "    return nn.Sequential(\n",
    "        *all_layers\n",
    "    )\n"
   ]
  },
  {
   "cell_type": "code",
   "execution_count": 9,
   "outputs": [
    {
     "name": "stdout",
     "output_type": "stream",
     "text": [
      "total number of configurations  3\n",
      "trial 0 of 6\n",
      "0.566272208733218\n",
      "{'conv_act': <class 'torch.nn.modules.activation.Sigmoid'>, 'lin_act': <class 'torch.nn.modules.linear.Identity'>, 'conv_setup': {'out_channels': (3, 1, 1), 'kernel_sizes': (64, 26, 13)}, 'lin_out_features': (2,)}\n",
      "new best mean distance (meters)  0.566272208733218 best var  0.06968685123610838\n",
      "Sequential(\n",
      "  (0): Sequential(\n",
      "    (0): Conv1d(3, 3, kernel_size=(64,), stride=(1,))\n",
      "    (1): BatchNorm1d(3, eps=1e-05, momentum=0.1, affine=True, track_running_stats=True)\n",
      "    (2): Sigmoid()\n",
      "  )\n",
      "  (1): Sequential(\n",
      "    (0): Conv1d(3, 1, kernel_size=(26,), stride=(1,))\n",
      "    (1): BatchNorm1d(1, eps=1e-05, momentum=0.1, affine=True, track_running_stats=True)\n",
      "    (2): Sigmoid()\n",
      "  )\n",
      "  (2): Sequential(\n",
      "    (0): Conv1d(1, 1, kernel_size=(13,), stride=(1,))\n",
      "    (1): BatchNorm1d(1, eps=1e-05, momentum=0.1, affine=True, track_running_stats=True)\n",
      "    (2): Sigmoid()\n",
      "  )\n",
      "  (3): Sequential(\n",
      "    (0): Flatten(start_dim=1, end_dim=-1)\n",
      "    (1): Linear(in_features=150, out_features=2, bias=True)\n",
      "  )\n",
      ")\n",
      "trial 1 of 6\n",
      "0.6566764116287231\n",
      "{'conv_act': <class 'torch.nn.modules.activation.Sigmoid'>, 'lin_act': <class 'torch.nn.modules.linear.Identity'>, 'conv_setup': {'out_channels': (3, 1, 1), 'kernel_sizes': (64, 26, 13)}, 'lin_out_features': (2,)}\n",
      "trial 2 of 6\n",
      "0.4440311874662127\n",
      "{'conv_act': <class 'torch.nn.modules.activation.Sigmoid'>, 'lin_act': <class 'torch.nn.modules.linear.Identity'>, 'conv_setup': {'out_channels': (3, 2, 2, 1), 'kernel_sizes': (64, 26, 13, 13)}, 'lin_out_features': (2,)}\n",
      "new best mean distance (meters)  0.4440311874662127 best var  0.0626205420534494\n",
      "Sequential(\n",
      "  (0): Sequential(\n",
      "    (0): Conv1d(3, 3, kernel_size=(64,), stride=(1,))\n",
      "    (1): BatchNorm1d(3, eps=1e-05, momentum=0.1, affine=True, track_running_stats=True)\n",
      "    (2): Sigmoid()\n",
      "  )\n",
      "  (1): Sequential(\n",
      "    (0): Conv1d(3, 2, kernel_size=(26,), stride=(1,))\n",
      "    (1): BatchNorm1d(2, eps=1e-05, momentum=0.1, affine=True, track_running_stats=True)\n",
      "    (2): Sigmoid()\n",
      "  )\n",
      "  (2): Sequential(\n",
      "    (0): Conv1d(2, 2, kernel_size=(13,), stride=(1,))\n",
      "    (1): BatchNorm1d(2, eps=1e-05, momentum=0.1, affine=True, track_running_stats=True)\n",
      "    (2): Sigmoid()\n",
      "  )\n",
      "  (3): Sequential(\n",
      "    (0): Conv1d(2, 1, kernel_size=(13,), stride=(1,))\n",
      "    (1): BatchNorm1d(1, eps=1e-05, momentum=0.1, affine=True, track_running_stats=True)\n",
      "    (2): Sigmoid()\n",
      "  )\n",
      "  (4): Sequential(\n",
      "    (0): Flatten(start_dim=1, end_dim=-1)\n",
      "    (1): Linear(in_features=138, out_features=2, bias=True)\n",
      "  )\n",
      ")\n",
      "trial 3 of 6\n",
      "0.6223271148545402\n",
      "{'conv_act': <class 'torch.nn.modules.activation.Sigmoid'>, 'lin_act': <class 'torch.nn.modules.linear.Identity'>, 'conv_setup': {'out_channels': (3, 2, 2, 1), 'kernel_sizes': (64, 26, 13, 13)}, 'lin_out_features': (2,)}\n",
      "trial 4 of 6\n",
      "0.47256072025213924\n",
      "{'conv_act': <class 'torch.nn.modules.activation.Sigmoid'>, 'lin_act': <class 'torch.nn.modules.linear.Identity'>, 'conv_setup': {'out_channels': (3, 2, 2, 1, 1), 'kernel_sizes': (64, 26, 13, 13, 5)}, 'lin_out_features': (2,)}\n",
      "trial 5 of 6\n",
      "0.5921584665775299\n",
      "{'conv_act': <class 'torch.nn.modules.activation.Sigmoid'>, 'lin_act': <class 'torch.nn.modules.linear.Identity'>, 'conv_setup': {'out_channels': (3, 2, 2, 1, 1), 'kernel_sizes': (64, 26, 13, 13, 5)}, 'lin_out_features': (2,)}\n",
      "done.\n",
      "best model  Sequential(\n",
      "  (0): Sequential(\n",
      "    (0): Conv1d(3, 3, kernel_size=(64,), stride=(1,))\n",
      "    (1): BatchNorm1d(3, eps=1e-05, momentum=0.1, affine=True, track_running_stats=True)\n",
      "    (2): Sigmoid()\n",
      "  )\n",
      "  (1): Sequential(\n",
      "    (0): Conv1d(3, 2, kernel_size=(26,), stride=(1,))\n",
      "    (1): BatchNorm1d(2, eps=1e-05, momentum=0.1, affine=True, track_running_stats=True)\n",
      "    (2): Sigmoid()\n",
      "  )\n",
      "  (2): Sequential(\n",
      "    (0): Conv1d(2, 2, kernel_size=(13,), stride=(1,))\n",
      "    (1): BatchNorm1d(2, eps=1e-05, momentum=0.1, affine=True, track_running_stats=True)\n",
      "    (2): Sigmoid()\n",
      "  )\n",
      "  (3): Sequential(\n",
      "    (0): Conv1d(2, 1, kernel_size=(13,), stride=(1,))\n",
      "    (1): BatchNorm1d(1, eps=1e-05, momentum=0.1, affine=True, track_running_stats=True)\n",
      "    (2): Sigmoid()\n",
      "  )\n",
      "  (4): Sequential(\n",
      "    (0): Flatten(start_dim=1, end_dim=-1)\n",
      "    (1): Linear(in_features=138, out_features=2, bias=True)\n",
      "  )\n",
      ")\n",
      "best mean  0.4440311874662127\n"
     ]
    }
   ],
   "source": [
    "from itertools import product\n",
    "import operator\n",
    "from functools import reduce, partial\n",
    "\n",
    "# grid search\n",
    "\n",
    "search_space = {\n",
    "    'conv_act': [\n",
    "        # nn.ReLU,\n",
    "        # nn.Identity,\n",
    "        nn.Sigmoid,\n",
    "        # nn.Tanh\n",
    "    ],\n",
    "    'lin_act': [\n",
    "        nn.Identity,\n",
    "        # nn.Hardtanh,\n",
    "        # nn.Tanh,\n",
    "        # nn.Sigmoid,\n",
    "        # nn.ReLU\n",
    "    ],\n",
    "    'conv_setup': [\n",
    "        # {'out_channels': (3, 1, 1), 'kernel_sizes': (26, 26, 26)},\n",
    "        # {'out_channels': (3, 3, 3), 'kernel_sizes': (26, 26, 26)},\n",
    "        # {'out_channels': (3, 3, 3), 'kernel_sizes': (64, 64, 64)},\n",
    "        # {'out_channels': (1, 1, 1), 'kernel_sizes': (64, 64, 64)},\n",
    "        {'out_channels': (3, 1, 1), 'kernel_sizes': (64, 26, 13)},\n",
    "        {'out_channels': (3, 2, 2, 1), 'kernel_sizes': (64, 26, 13, 13)},\n",
    "        {'out_channels': (3, 2, 2, 1, 1), 'kernel_sizes': (64, 26, 13, 13, 5)}\n",
    "\n",
    "    ],\n",
    "    'lin_out_features': [\n",
    "        (2, ),\n",
    "    ]\n",
    "}\n",
    "\n",
    "\n",
    "def run_grid_search(search_space):\n",
    "\n",
    "    total_number_of_configurations = reduce(operator.mul, (len(subspace) for subspace in search_space.values()))\n",
    "    print(\"total number of configurations \", total_number_of_configurations)\n",
    "\n",
    "    def expand_search_space(space):\n",
    "        return [dict(zip(space.keys(), combination)) for combination in product(*tuple(space.values()))]\n",
    "\n",
    "    tried_configs_and_mean = []\n",
    "    best_mean = 2\n",
    "    best_model = None\n",
    "    trials = 2\n",
    "    best_trial_id = 0\n",
    "    for id, config in enumerate(expand_search_space(search_space)):\n",
    "        for trial in range(trials):\n",
    "            print(f\"trial {2*id+trial} of {total_number_of_configurations*trials}\")\n",
    "            experiment.model = create_position_model(\n",
    "                input_shape=experiment.input_shape,\n",
    "                kernel_sizes=config['conv_setup']['kernel_sizes'],\n",
    "                out_channels=config['conv_setup']['out_channels'],\n",
    "                lin_act=config['lin_act'],\n",
    "                linear_out_features=config['lin_out_features'],\n",
    "                conv=partial(bnormed_conv, act=config['conv_act'])\n",
    "            )\n",
    "            experiment.train(900, quiet=True)\n",
    "            mean, var = experiment.get_mean_and_var_distance_for_test()\n",
    "            print(mean)\n",
    "            print(config)\n",
    "\n",
    "            if mean < best_mean:\n",
    "                print(\"new best mean distance (meters) \", mean, \"best var \", var)\n",
    "                print(experiment.model)\n",
    "                best_mean = mean\n",
    "                best_model = experiment.model\n",
    "                best_trial_id = 2*id+trial\n",
    "            tried_configs_and_mean.append((config, mean, var))\n",
    "    print(\"done.\")\n",
    "    print(\"best model \", best_model)\n",
    "    print(\"best mean \", best_mean)\n",
    "    return best_model, best_trial_id\n",
    "\n",
    "result = run_grid_search(search_space)\n",
    "# best config {'conv_act': <class 'torch.nn.modules.activation.Sigmoid'>, 'lin_act': <class 'torch.nn.modules.linear.Identity'>, 'conv_setup': {'out_channels': (3, 2, 2, 1), 'kernel_sizes': (64, 26, 13, 13)}, 'lin_out_features': (2,)}\n",
    "# new best mean distance (meters)  0.4440311874662127 best var  0.0626205420534494"
   ],
   "metadata": {
    "collapsed": false
   }
  },
  {
   "cell_type": "markdown",
   "metadata": {},
   "source": [
    "## Train Model"
   ]
  },
  {
   "cell_type": "markdown",
   "metadata": {},
   "source": [
    "## Evaluate Trained Model"
   ]
  },
  {
   "cell_type": "markdown",
   "metadata": {},
   "source": [
    "### Training History"
   ]
  },
  {
   "cell_type": "markdown",
   "metadata": {},
   "source": [
    "#### On Testing Set"
   ]
  },
  {
   "cell_type": "code",
   "execution_count": 4,
   "metadata": {},
   "outputs": [],
   "source": []
  },
  {
   "cell_type": "markdown",
   "metadata": {},
   "source": [
    "## Save Hardware Implementation"
   ]
  },
  {
   "cell_type": "code",
   "execution_count": 5,
   "metadata": {},
   "outputs": [
    {
     "ename": "AttributeError",
     "evalue": "'Sequential' object has no attribute 'create_design'",
     "output_type": "error",
     "traceback": [
      "\u001B[0;31m---------------------------------------------------------------------------\u001B[0m",
      "\u001B[0;31mAttributeError\u001B[0m                            Traceback (most recent call last)",
      "Cell \u001B[0;32mIn[5], line 3\u001B[0m\n\u001B[1;32m      1\u001B[0m path \u001B[38;5;241m=\u001B[39m OnDiskPath(\u001B[38;5;124m\"\u001B[39m\u001B[38;5;124mbuild\u001B[39m\u001B[38;5;124m\"\u001B[39m)\n\u001B[0;32m----> 3\u001B[0m hw_design \u001B[38;5;241m=\u001B[39m \u001B[43mexperiment\u001B[49m\u001B[38;5;241;43m.\u001B[39;49m\u001B[43mmodel\u001B[49m\u001B[38;5;241;43m.\u001B[39;49m\u001B[43mcreate_design\u001B[49m(\u001B[38;5;124m\"\u001B[39m\u001B[38;5;124mball_throw\u001B[39m\u001B[38;5;124m\"\u001B[39m)\n\u001B[1;32m      5\u001B[0m channels, signal_length \u001B[38;5;241m=\u001B[39m experiment\u001B[38;5;241m.\u001B[39minput_shape\n\u001B[1;32m      6\u001B[0m total_length \u001B[38;5;241m=\u001B[39m channels \u001B[38;5;241m*\u001B[39m signal_length\n",
      "File \u001B[0;32m~/miniforge3/envs/ballchallenge/lib/python3.11/site-packages/torch/nn/modules/module.py:1614\u001B[0m, in \u001B[0;36mModule.__getattr__\u001B[0;34m(self, name)\u001B[0m\n\u001B[1;32m   1612\u001B[0m     \u001B[38;5;28;01mif\u001B[39;00m name \u001B[38;5;129;01min\u001B[39;00m modules:\n\u001B[1;32m   1613\u001B[0m         \u001B[38;5;28;01mreturn\u001B[39;00m modules[name]\n\u001B[0;32m-> 1614\u001B[0m \u001B[38;5;28;01mraise\u001B[39;00m \u001B[38;5;167;01mAttributeError\u001B[39;00m(\u001B[38;5;124m\"\u001B[39m\u001B[38;5;124m'\u001B[39m\u001B[38;5;132;01m{}\u001B[39;00m\u001B[38;5;124m'\u001B[39m\u001B[38;5;124m object has no attribute \u001B[39m\u001B[38;5;124m'\u001B[39m\u001B[38;5;132;01m{}\u001B[39;00m\u001B[38;5;124m'\u001B[39m\u001B[38;5;124m\"\u001B[39m\u001B[38;5;241m.\u001B[39mformat(\n\u001B[1;32m   1615\u001B[0m     \u001B[38;5;28mtype\u001B[39m(\u001B[38;5;28mself\u001B[39m)\u001B[38;5;241m.\u001B[39m\u001B[38;5;18m__name__\u001B[39m, name))\n",
      "\u001B[0;31mAttributeError\u001B[0m: 'Sequential' object has no attribute 'create_design'"
     ]
    }
   ],
   "source": [
    "path = OnDiskPath(\"build\")\n",
    "\n",
    "hw_design = experiment.model.create_design(\"ball_throw\")\n",
    "\n",
    "channels, signal_length = experiment.input_shape\n",
    "total_length = channels * signal_length\n",
    "\n",
    "firmware = FirmwareENv5(\n",
    "    network=hw_design,\n",
    "    x_num_values=total_length,\n",
    "    y_num_values=GRID_SIZE[0] * GRID_SIZE[1],\n",
    "    skeleton_version=\"v2\",\n",
    "    id=666\n",
    ")\n",
    "firmware.save_to(path)\n",
    "hw_design.save_to(path)"
   ]
  },
  {
   "cell_type": "markdown",
   "metadata": {},
   "source": [
    "## Additional Section"
   ]
  },
  {
   "cell_type": "markdown",
   "metadata": {},
   "source": [
    "### Mean Label of the Dataset"
   ]
  },
  {
   "cell_type": "code",
   "execution_count": null,
   "metadata": {},
   "outputs": [],
   "source": [
    "def plot_dataset_mean_label() -> None:\n",
    "    _, labels = ds[:]\n",
    "    mean_label = labels.mean(dim=0)\n",
    "    \n",
    "    _, ax = plt.subplots(nrows=1, ncols=1, figsize=(5, 5))\n",
    "    sns.heatmap(mean_label.view(GRID_SIZE), square=True, cmap=\"hot\", ax=ax)\n",
    "    ax.set_title(\"Mean Label\")\n",
    "    \n",
    "\n",
    "plot_dataset_mean_label()"
   ]
  },
  {
   "cell_type": "code",
   "execution_count": null,
   "metadata": {},
   "outputs": [],
   "source": []
  }
 ],
 "metadata": {
  "kernelspec": {
   "display_name": "ballchallenge",
   "language": "python",
   "name": "python3"
  },
  "language_info": {
   "codemirror_mode": {
    "name": "ipython",
    "version": 3
   },
   "file_extension": ".py",
   "mimetype": "text/x-python",
   "name": "python",
   "nbconvert_exporter": "python",
   "pygments_lexer": "ipython3",
   "version": "3.11.7"
  }
 },
 "nbformat": 4,
 "nbformat_minor": 2
}
