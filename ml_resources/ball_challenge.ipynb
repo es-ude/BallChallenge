{
 "cells": [
  {
   "cell_type": "code",
   "execution_count": null,
   "metadata": {},
   "outputs": [],
   "source": [
    "import torch\n",
    "from torch.utils.data import random_split\n",
    "\n",
    "import matplotlib.pyplot as plt\n",
    "import seaborn as sns\n",
    "\n",
    "from ballchallenge.model import BallChallengeModel\n",
    "from ballchallenge.dummy_dataset import DummyDataset\n",
    "from ballchallenge.training import run_training\n",
    "\n",
    "DEVICE = \"cuda\" if torch.cuda.is_available() else \"cpu\""
   ]
  },
  {
   "cell_type": "code",
   "execution_count": null,
   "metadata": {},
   "outputs": [],
   "source": [
    "ds = DummyDataset()\n",
    "ds_train, ds_test = random_split(ds, lengths=[0.75, 0.25])"
   ]
  },
  {
   "cell_type": "code",
   "execution_count": null,
   "metadata": {},
   "outputs": [],
   "source": [
    "model = BallChallengeModel(total_bits=16, frac_bits=8, signal_length=1000, impact_grid_size=(10, 10))\n",
    "\n",
    "history = run_training(\n",
    "    model=model,\n",
    "    ds_train=ds_train,\n",
    "    ds_test=ds_test,\n",
    "    batch_size=128,\n",
    "    epochs=100,\n",
    "    learning_rate=1e-3,\n",
    "    device=DEVICE\n",
    ")\n",
    "\n",
    "model.eval()\n",
    "model.to(\"cpu\")"
   ]
  },
  {
   "cell_type": "code",
   "execution_count": null,
   "metadata": {},
   "outputs": [],
   "source": [
    "fig, ax = plt.subplots(nrows=1, ncols=1, figsize=(10, 5))\n",
    "ax.plot(history.train[\"epoch\"], history.train[\"loss\"], label=\"train\")\n",
    "ax.plot(history.test[\"epoch\"], history.test[\"loss\"], label=\"test\")\n",
    "ax.set_xlabel(\"Epoch\")\n",
    "ax.set_ylabel(\"MSE Loss\")"
   ]
  },
  {
   "cell_type": "code",
   "execution_count": null,
   "metadata": {},
   "outputs": [],
   "source": [
    "fig, ax = plt.subplots(nrows=1, ncols=1, figsize=(10, 5))\n",
    "ax.plot(history.train[\"epoch\"], history.train[\"accuracy\"], label=\"train\")\n",
    "ax.plot(history.test[\"epoch\"], history.test[\"accuracy\"], label=\"test\")\n",
    "ax.set_xlabel(\"Epochs\")\n",
    "ax.set_ylabel(\"Accuracy\")"
   ]
  },
  {
   "cell_type": "code",
   "execution_count": null,
   "metadata": {},
   "outputs": [],
   "source": [
    "sample_idx = 0\n",
    "\n",
    "fig, axs = plt.subplots(nrows=1, ncols=2, figsize=(10, 5))\n",
    "sns.heatmap(model(ds_test[sample_idx][0]).detach(), cmap=\"hot\", ax=axs[0])\n",
    "sns.heatmap(ds_test[sample_idx][1], cmap=\"hot\", ax=axs[1])"
   ]
  },
  {
   "cell_type": "code",
   "execution_count": null,
   "metadata": {},
   "outputs": [],
   "source": []
  }
 ],
 "metadata": {
  "kernelspec": {
   "display_name": "ballchallenge",
   "language": "python",
   "name": "python3"
  },
  "language_info": {
   "codemirror_mode": {
    "name": "ipython",
    "version": 3
   },
   "file_extension": ".py",
   "mimetype": "text/x-python",
   "name": "python",
   "nbconvert_exporter": "python",
   "pygments_lexer": "ipython3",
   "version": "3.11.5"
  }
 },
 "nbformat": 4,
 "nbformat_minor": 2
}
