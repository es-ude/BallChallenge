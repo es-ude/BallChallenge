{
 "cells": [
  {
   "cell_type": "markdown",
   "metadata": {},
   "source": [
    "# Ball Challenge\n",
    "\n",
    "Predicting the probability of impact given a three-channel timeseries of acceleration data (x-, y-, z-direction)\n",
    "- Input: Three-channel acceleration data\n",
    "    - Assumption: Sampled at 100 Hz and recorded for 3 seconds\n",
    "- Output: Two-dimensional probability map containing the probability of impact for each cell in a grid\n",
    "    - Assumption: 10x10 grid"
   ]
  },
  {
   "cell_type": "code",
   "execution_count": 1,
   "metadata": {},
   "outputs": [],
   "source": [
    "import torch\n",
    "import torch.nn.functional as F\n",
    "\n",
    "import seaborn as sns\n",
    "\n",
    "from elasticai.creator.nn import Sequential as TranslatableSequential\n",
    "from elasticai.creator.nn.fixed_point import quantize, BatchNormedConv1d, Linear, HardTanh"
   ]
  },
  {
   "cell_type": "code",
   "execution_count": 2,
   "metadata": {},
   "outputs": [],
   "source": [
    "class ProbabilityMapSoftmax(torch.nn.Module):\n",
    "    def __init__(self) -> None:\n",
    "        super().__init__()\n",
    "    \n",
    "    def forward(self, inputs: torch.Tensor) -> torch.Tensor:\n",
    "        *first_dims, height, width = inputs.shape\n",
    "        vector = inputs.view(*first_dims, height * width)\n",
    "        probability_vector = F.softmax(vector, dim=len(first_dims))\n",
    "        probability_map = probability_vector.view(*first_dims, height, width)\n",
    "        return probability_map"
   ]
  },
  {
   "cell_type": "code",
   "execution_count": 3,
   "metadata": {},
   "outputs": [],
   "source": [
    "class BallChallengeModel(torch.nn.Module):\n",
    "    def __init__(\n",
    "        self,\n",
    "        total_bits: int,\n",
    "        frac_bits: int,\n",
    "        signal_length: int,\n",
    "        impact_grid_size: tuple[int, int],\n",
    "    ) -> None:\n",
    "        super().__init__()\n",
    "        self.grid_width, self.grid_height = impact_grid_size\n",
    "        self.total_bits = total_bits\n",
    "        self.frac_bits = frac_bits\n",
    "        \n",
    "        self.hardware_model = TranslatableSequential(\n",
    "            BatchNormedConv1d(\n",
    "                in_channels=3,\n",
    "                out_channels=32,\n",
    "                signal_length=signal_length,\n",
    "                kernel_size=8,\n",
    "                total_bits=total_bits,\n",
    "                frac_bits=frac_bits,\n",
    "            ),\n",
    "            HardTanh(total_bits=total_bits, frac_bits=frac_bits),\n",
    "            BatchNormedConv1d(\n",
    "                in_channels=32,\n",
    "                out_channels=4,\n",
    "                signal_length=signal_length - 7,\n",
    "                kernel_size=4,\n",
    "                total_bits=total_bits,\n",
    "                frac_bits=frac_bits,\n",
    "            ),\n",
    "            HardTanh(total_bits=total_bits, frac_bits=frac_bits),\n",
    "            Linear(\n",
    "                in_features=(signal_length - 10) * 4,\n",
    "                out_features=self.grid_width * self.grid_height,\n",
    "                bias=True,\n",
    "                total_bits=total_bits,\n",
    "                frac_bits=frac_bits,\n",
    "            ),\n",
    "        )\n",
    "        self.softmax = ProbabilityMapSoftmax()\n",
    "    \n",
    "    def forward(self, inputs: torch.Tensor) -> torch.Tensor:\n",
    "        *first_dims, height, width = inputs.shape\n",
    "        inputs = inputs.view(*first_dims, width * height)\n",
    "\n",
    "        quantized_inputs = quantize(inputs, total_bits=self.total_bits, frac_bits=self.frac_bits)\n",
    "        predictions = self.hardware_model(quantized_inputs)\n",
    "        prediction_map = predictions.view(*first_dims, self.grid_height, self.grid_width)\n",
    "\n",
    "        return self.softmax(prediction_map)        "
   ]
  },
  {
   "cell_type": "code",
   "execution_count": 4,
   "metadata": {},
   "outputs": [],
   "source": [
    "sampling_freq = 100\n",
    "recording_time = 3\n",
    "num_channels = 3\n",
    "\n",
    "model = BallChallengeModel(\n",
    "    total_bits=16,\n",
    "    frac_bits=8,\n",
    "    signal_length=sampling_freq * recording_time,\n",
    "    impact_grid_size=(10, 10),\n",
    ")\n",
    "\n",
    "random_inputs = torch.randn(num_channels, sampling_freq * recording_time)\n",
    "predicted_impact_map = model(random_inputs).detach()"
   ]
  },
  {
   "cell_type": "code",
   "execution_count": 5,
   "metadata": {},
   "outputs": [
    {
     "data": {
      "text/plain": [
       "<Axes: >"
      ]
     },
     "execution_count": 5,
     "metadata": {},
     "output_type": "execute_result"
    },
    {
     "data": {
      "image/png": "[encoded data removed]",
      "text/plain": [
       "<Figure size 640x480 with 2 Axes>"
      ]
     },
     "metadata": {},
     "output_type": "display_data"
    }
   ],
   "source": [
    "sns.heatmap(predicted_impact_map, cmap=\"coolwarm\")"
   ]
  },
  {
   "cell_type": "code",
   "execution_count": null,
   "metadata": {},
   "outputs": [],
   "source": []
  }
 ],
 "metadata": {
  "kernelspec": {
   "display_name": "ballchallenge",
   "language": "python",
   "name": "python3"
  },
  "language_info": {
   "codemirror_mode": {
    "name": "ipython",
    "version": 3
   },
   "file_extension": ".py",
   "mimetype": "text/x-python",
   "name": "python",
   "nbconvert_exporter": "python",
   "pygments_lexer": "ipython3",
   "version": "3.11.4"
  },
  "orig_nbformat": 4
 },
 "nbformat": 4,
 "nbformat_minor": 2
}
